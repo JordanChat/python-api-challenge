{
 "cells": [
  {
   "cell_type": "code",
   "execution_count": 1,
   "metadata": {},
   "outputs": [],
   "source": [
    "#dependencies\n",
    "import pandas as pd\n",
    "import numpy as np\n",
    "import matplotlib.pyplot as plt\n",
    "import requests\n",
    "import gmaps\n",
    "import json\n",
    "import os\n",
    "\n",
    "from api_key import gkey"
   ]
  },
  {
   "cell_type": "code",
   "execution_count": 5,
   "metadata": {},
   "outputs": [],
   "source": [
    "#finding csv\n",
    "cities_info_filing = \"../WeatherPy/OutputData/city_weather.csv\""
   ]
  },
  {
   "cell_type": "code",
   "execution_count": 6,
   "metadata": {},
   "outputs": [],
   "source": [
    "#reading csv to df\n",
    "cities_info2 = pd.read_csv(cities_info_filing)"
   ]
  },
  {
   "cell_type": "code",
   "execution_count": 7,
   "metadata": {},
   "outputs": [
    {
     "data": {
      "text/html": [
       "<div>\n",
       "<style scoped>\n",
       "    .dataframe tbody tr th:only-of-type {\n",
       "        vertical-align: middle;\n",
       "    }\n",
       "\n",
       "    .dataframe tbody tr th {\n",
       "        vertical-align: top;\n",
       "    }\n",
       "\n",
       "    .dataframe thead th {\n",
       "        text-align: right;\n",
       "    }\n",
       "</style>\n",
       "<table border=\"1\" class=\"dataframe\">\n",
       "  <thead>\n",
       "    <tr style=\"text-align: right;\">\n",
       "      <th></th>\n",
       "      <th>City</th>\n",
       "      <th>Country</th>\n",
       "      <th>Temp</th>\n",
       "      <th>Humidity</th>\n",
       "      <th>Cloudiness</th>\n",
       "      <th>Wind Speed</th>\n",
       "      <th>Lat</th>\n",
       "      <th>Lng</th>\n",
       "    </tr>\n",
       "  </thead>\n",
       "  <tbody>\n",
       "    <tr>\n",
       "      <th>0</th>\n",
       "      <td>Ancud</td>\n",
       "      <td>CL</td>\n",
       "      <td>53.33</td>\n",
       "      <td>53</td>\n",
       "      <td>0</td>\n",
       "      <td>10.29</td>\n",
       "      <td>-41.87</td>\n",
       "      <td>-73.82</td>\n",
       "    </tr>\n",
       "    <tr>\n",
       "      <th>1</th>\n",
       "      <td>Mānsa</td>\n",
       "      <td>IN</td>\n",
       "      <td>67.35</td>\n",
       "      <td>24</td>\n",
       "      <td>0</td>\n",
       "      <td>4.41</td>\n",
       "      <td>29.98</td>\n",
       "      <td>75.38</td>\n",
       "    </tr>\n",
       "    <tr>\n",
       "      <th>2</th>\n",
       "      <td>Vardø</td>\n",
       "      <td>NO</td>\n",
       "      <td>28.38</td>\n",
       "      <td>86</td>\n",
       "      <td>40</td>\n",
       "      <td>6.93</td>\n",
       "      <td>70.37</td>\n",
       "      <td>31.11</td>\n",
       "    </tr>\n",
       "    <tr>\n",
       "      <th>3</th>\n",
       "      <td>Puerto Ayora</td>\n",
       "      <td>EC</td>\n",
       "      <td>72.57</td>\n",
       "      <td>73</td>\n",
       "      <td>75</td>\n",
       "      <td>18.34</td>\n",
       "      <td>-0.74</td>\n",
       "      <td>-90.35</td>\n",
       "    </tr>\n",
       "    <tr>\n",
       "      <th>4</th>\n",
       "      <td>East London</td>\n",
       "      <td>ZA</td>\n",
       "      <td>60.22</td>\n",
       "      <td>67</td>\n",
       "      <td>7</td>\n",
       "      <td>8.77</td>\n",
       "      <td>-33.02</td>\n",
       "      <td>27.91</td>\n",
       "    </tr>\n",
       "  </tbody>\n",
       "</table>\n",
       "</div>"
      ],
      "text/plain": [
       "           City Country   Temp  Humidity  Cloudiness  Wind Speed    Lat    Lng\n",
       "0         Ancud      CL  53.33        53           0       10.29 -41.87 -73.82\n",
       "1         Mānsa      IN  67.35        24           0        4.41  29.98  75.38\n",
       "2         Vardø      NO  28.38        86          40        6.93  70.37  31.11\n",
       "3  Puerto Ayora      EC  72.57        73          75       18.34  -0.74 -90.35\n",
       "4   East London      ZA  60.22        67           7        8.77 -33.02  27.91"
      ]
     },
     "execution_count": 7,
     "metadata": {},
     "output_type": "execute_result"
    }
   ],
   "source": [
    "cities_info2.head()"
   ]
  },
  {
   "cell_type": "code",
   "execution_count": 8,
   "metadata": {},
   "outputs": [],
   "source": [
    "#getting the location for the heatmap\n",
    "locations = cities_info2[[\"Lat\", \"Lng\"]]\n",
    "humidity2 = cities_info2[\"Humidity\"]"
   ]
  },
  {
   "cell_type": "code",
   "execution_count": 13,
   "metadata": {},
   "outputs": [
    {
     "data": {
      "application/vnd.jupyter.widget-view+json": {
       "model_id": "8814f00b4de64d838176ad93cf2e9c58",
       "version_major": 2,
       "version_minor": 0
      },
      "text/plain": [
       "Figure(layout=FigureLayout(height='420px'))"
      ]
     },
     "metadata": {},
     "output_type": "display_data"
    }
   ],
   "source": [
    "#heatmap\n",
    "figure = gmaps.figure()\n",
    "\n",
    "heating1 = gmaps.heatmap_layer(locations, weights=humidity2,\n",
    "                         dissipating=False, max_intensity=100,\n",
    "                         point_radius=2)\n",
    "\n",
    "figure.add_layer(heating1)\n",
    "\n",
    "figure"
   ]
  },
  {
   "cell_type": "code",
   "execution_count": 15,
   "metadata": {},
   "outputs": [
    {
     "data": {
      "text/html": [
       "<div>\n",
       "<style scoped>\n",
       "    .dataframe tbody tr th:only-of-type {\n",
       "        vertical-align: middle;\n",
       "    }\n",
       "\n",
       "    .dataframe tbody tr th {\n",
       "        vertical-align: top;\n",
       "    }\n",
       "\n",
       "    .dataframe thead th {\n",
       "        text-align: right;\n",
       "    }\n",
       "</style>\n",
       "<table border=\"1\" class=\"dataframe\">\n",
       "  <thead>\n",
       "    <tr style=\"text-align: right;\">\n",
       "      <th></th>\n",
       "      <th>City</th>\n",
       "      <th>Country</th>\n",
       "      <th>Temp</th>\n",
       "      <th>Humidity</th>\n",
       "      <th>Cloudiness</th>\n",
       "      <th>Wind Speed</th>\n",
       "      <th>Lat</th>\n",
       "      <th>Lng</th>\n",
       "    </tr>\n",
       "  </thead>\n",
       "  <tbody>\n",
       "    <tr>\n",
       "      <th>44</th>\n",
       "      <td>Tcholliré</td>\n",
       "      <td>CM</td>\n",
       "      <td>75.18</td>\n",
       "      <td>60</td>\n",
       "      <td>0</td>\n",
       "      <td>2.77</td>\n",
       "      <td>8.40</td>\n",
       "      <td>14.17</td>\n",
       "    </tr>\n",
       "    <tr>\n",
       "      <th>68</th>\n",
       "      <td>Tura</td>\n",
       "      <td>IN</td>\n",
       "      <td>71.85</td>\n",
       "      <td>92</td>\n",
       "      <td>0</td>\n",
       "      <td>2.75</td>\n",
       "      <td>25.52</td>\n",
       "      <td>90.22</td>\n",
       "    </tr>\n",
       "    <tr>\n",
       "      <th>72</th>\n",
       "      <td>Tsiroanomandidy</td>\n",
       "      <td>MG</td>\n",
       "      <td>71.35</td>\n",
       "      <td>59</td>\n",
       "      <td>0</td>\n",
       "      <td>3.58</td>\n",
       "      <td>-18.77</td>\n",
       "      <td>46.03</td>\n",
       "    </tr>\n",
       "    <tr>\n",
       "      <th>193</th>\n",
       "      <td>Aswān</td>\n",
       "      <td>EG</td>\n",
       "      <td>78.03</td>\n",
       "      <td>26</td>\n",
       "      <td>0</td>\n",
       "      <td>2.66</td>\n",
       "      <td>24.09</td>\n",
       "      <td>32.91</td>\n",
       "    </tr>\n",
       "    <tr>\n",
       "      <th>198</th>\n",
       "      <td>Bandarbeyla</td>\n",
       "      <td>SO</td>\n",
       "      <td>78.58</td>\n",
       "      <td>73</td>\n",
       "      <td>0</td>\n",
       "      <td>6.76</td>\n",
       "      <td>9.49</td>\n",
       "      <td>50.81</td>\n",
       "    </tr>\n",
       "  </tbody>\n",
       "</table>\n",
       "</div>"
      ],
      "text/plain": [
       "                City Country   Temp  Humidity  Cloudiness  Wind Speed    Lat  \\\n",
       "44         Tcholliré      CM  75.18        60           0        2.77   8.40   \n",
       "68              Tura      IN  71.85        92           0        2.75  25.52   \n",
       "72   Tsiroanomandidy      MG  71.35        59           0        3.58 -18.77   \n",
       "193            Aswān      EG  78.03        26           0        2.66  24.09   \n",
       "198      Bandarbeyla      SO  78.58        73           0        6.76   9.49   \n",
       "\n",
       "       Lng  \n",
       "44   14.17  \n",
       "68   90.22  \n",
       "72   46.03  \n",
       "193  32.91  \n",
       "198  50.81  "
      ]
     },
     "execution_count": 15,
     "metadata": {},
     "output_type": "execute_result"
    }
   ],
   "source": [
    "#getting the right data for perfect vacation\n",
    "temp80_df = cities_info2.loc[cities_info2[\"Temp\"] < 80]\n",
    "temp70_df = temp80_df.loc[temp80_df[\"Temp\"] > 70]\n",
    "wind10_df = temp70_df.loc[temp70_df[\"Wind Speed\"] < 10]\n",
    "cloud0_df = wind10_df.loc[wind10_df[\"Cloudiness\"] == 0]\n",
    "\n",
    "new_vacation = cloud0_df\n",
    "new_vacation.head()\n"
   ]
  },
  {
   "cell_type": "code",
   "execution_count": null,
   "metadata": {},
   "outputs": [],
   "source": []
  }
 ],
 "metadata": {
  "kernelspec": {
   "display_name": "Python 3",
   "language": "python",
   "name": "python3"
  },
  "language_info": {
   "codemirror_mode": {
    "name": "ipython",
    "version": 3
   },
   "file_extension": ".py",
   "mimetype": "text/x-python",
   "name": "python",
   "nbconvert_exporter": "python",
   "pygments_lexer": "ipython3",
   "version": "3.6.10"
  }
 },
 "nbformat": 4,
 "nbformat_minor": 4
}
